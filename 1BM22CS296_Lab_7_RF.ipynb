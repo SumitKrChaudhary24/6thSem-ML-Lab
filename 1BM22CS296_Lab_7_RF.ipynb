{
  "nbformat": 4,
  "nbformat_minor": 0,
  "metadata": {
    "colab": {
      "provenance": []
    },
    "kernelspec": {
      "name": "python3",
      "display_name": "Python 3"
    },
    "language_info": {
      "name": "python"
    }
  },
  "cells": [
    {
      "cell_type": "code",
      "execution_count": null,
      "metadata": {
        "colab": {
          "base_uri": "https://localhost:8080/"
        },
        "id": "K4V14WvnGJ9B",
        "outputId": "94941664-23fc-47b7-f2d0-1374e365d2cc"
      },
      "outputs": [
        {
          "output_type": "stream",
          "name": "stdout",
          "text": [
            "Accuracy with default n_estimators (10): 1.0\n",
            "Best accuracy: 1.0\n",
            "Best n_estimators: 10\n",
            "\n",
            "Confusion Matrix:\n",
            "[[19  0  0]\n",
            " [ 0 13  0]\n",
            " [ 0  0 13]]\n"
          ]
        }
      ],
      "source": [
        "from sklearn.datasets import load_iris\n",
        "from sklearn.ensemble import RandomForestClassifier\n",
        "from sklearn.model_selection import train_test_split\n",
        "from sklearn.metrics import accuracy_score, confusion_matrix\n",
        "import pandas as pd\n",
        "\n",
        "iris=pd.read_csv('/content/sample_data/iris.csv')\n",
        "X = iris.iloc[:, :-1].values  # Features\n",
        "y = iris.iloc[:, -1].values   # Target\n",
        "\n",
        "X_train, X_test, y_train, y_test = train_test_split(X, y, test_size=0.3, random_state=42)\n",
        "\n",
        "rf_classifier = RandomForestClassifier(random_state=42)\n",
        "rf_classifier.fit(X_train, y_train)\n",
        "\n",
        "y_pred = rf_classifier.predict(X_test)\n",
        "accuracy = accuracy_score(y_test, y_pred)\n",
        "print(f\"Accuracy with default n_estimators (10): {accuracy}\")\n",
        "\n",
        "best_accuracy = 0\n",
        "best_n_estimators = 0\n",
        "\n",
        "for n_estimators in range(10, 201, 10):  # Try n_estimators from 10 to 200\n",
        "    rf_classifier = RandomForestClassifier(n_estimators=n_estimators, random_state=42)\n",
        "    rf_classifier.fit(X_train, y_train)\n",
        "    y_pred = rf_classifier.predict(X_test)\n",
        "    accuracy = accuracy_score(y_test, y_pred)\n",
        "\n",
        "    if accuracy > best_accuracy:\n",
        "        best_accuracy = accuracy\n",
        "        best_n_estimators = n_estimators\n",
        "\n",
        "print(f\"Best accuracy: {best_accuracy}\")\n",
        "print(f\"Best n_estimators: {best_n_estimators}\")\n",
        "\n",
        "best_rf_classifier = RandomForestClassifier(n_estimators=best_n_estimators, random_state=42)\n",
        "best_rf_classifier.fit(X_train, y_train)\n",
        "y_pred = best_rf_classifier.predict(X_test)\n",
        "\n",
        "cm = confusion_matrix(y_test, y_pred)\n",
        "print(\"\\nConfusion Matrix:\")\n",
        "print(cm)\n"
      ]
    },
    {
      "cell_type": "code",
      "source": [],
      "metadata": {
        "id": "O7eNETBHHY11"
      },
      "execution_count": null,
      "outputs": []
    }
  ]
}